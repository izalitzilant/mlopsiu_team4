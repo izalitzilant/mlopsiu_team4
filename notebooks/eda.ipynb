{
 "cells": [
  {
   "cell_type": "code",
   "execution_count": 18,
   "id": "a817071e-cd9c-43da-af03-35c12bcf3db3",
   "metadata": {},
   "outputs": [],
   "source": [
    "import sklearn\n",
    "import numpy as np\n",
    "import pandas as pd\n",
    "import matplotlib.pyplot as plt\n",
    "import seaborn as sns"
   ]
  },
  {
   "cell_type": "markdown",
   "source": [
    "# Data Description\n",
    "\n",
    "**Number of rows: 50,000**\n",
    "### Columns descriptions:\n",
    "\n",
    "| Column Name            | Description                                                                                                                | Data Type | Feature Type |\n",
    "|------------------------|----------------------------------------------------------------------------------------------------------------------------|-----------|--------------|\n",
    "| **item_id**            | Ad id.                                                                                                                     | object    | Categorical  |\n",
    "| **user_id**            | User id.                                                                                                                   | object    | Categorical  |\n",
    "| **region**             | Ad region.                                                                                                                 | object    | Categorical  |\n",
    "| **city**               | Ad city.                                                                                                                   | object    | Categorical  |\n",
    "| **parent_category_name** | Top level ad category as classified by Avito's ad model.                                                                   | object    | Categorical  |\n",
    "| **category_name**      | Fine grain ad category as classified by Avito's ad model.                                                                  | object    | Categorical  |\n",
    "| **param_1**            | Optional parameter from Avito's ad model.                                                                                  | object    | Categorical  |\n",
    "| **param_2**            | Optional parameter from Avito's ad model.                                                                                  | object    | Categorical  |\n",
    "| **param_3**            | Optional parameter from Avito's ad model.                                                                                  | object    | Categorical  |\n",
    "| **title**              | Ad title.                                                                                                                  | object    | Text         |\n",
    "| **description**        | Ad description.                                                                                                            | object    | Text         |\n",
    "| **price**              | Ad price.                                                                                                                  | float64   | Numerical    |\n",
    "| **item_seq_number**    | Ad sequential number for user.                                                                                             | int64     | Numerical    |\n",
    "| **activation_date**    | Date ad was placed.                                                                                                        | date      | Datetime     |\n",
    "| **user_type**          | User type.                                                                                                                 | object    | Categorical  |\n",
    "| **image**              | Id code of image. Ties to a jpg file in train_jpg. Not every ad has an image.                                              | object    | Categorical  |\n",
    "| **image_top_1**        | Avito's classification code for the image.                                                                                 | int       | Categorical  |\n",
    "| **deal_probability**   | The target variable. This is the likelihood that an ad actually sold something. It can be any float from zero to one.      | float64   | Numerical    |\n"
   ],
   "metadata": {
    "collapsed": false
   }
  },
  {
   "cell_type": "markdown",
   "source": [
    "# Load the dataset and display basic information"
   ],
   "metadata": {
    "collapsed": false
   }
  },
  {
   "cell_type": "code",
   "execution_count": 19,
   "id": "3532a6fa-26f5-483e-bcbe-4090c3e20f16",
   "metadata": {},
   "outputs": [],
   "source": [
    "data = pd.read_csv('../data/train50k.csv')"
   ]
  },
  {
   "cell_type": "code",
   "execution_count": 20,
   "id": "4f2732c3-9317-4a48-9d17-3b38c0ef28c8",
   "metadata": {},
   "outputs": [
    {
     "data": {
      "text/plain": "        item_id       user_id                region              city  \\\n0  f29cf252fe8b  36f607251eca  Оренбургская область          Оренбург   \n1  ed78ef5c7587  2308937ea3a8     Иркутская область           Ангарск   \n2  c0f25c409790  1ae330e29560  Свердловская область             Ревда   \n3  a8715a8d3229  81d37b472906   Ярославская область      Некрасовское   \n4  2b2f882391b7  720a6b091901             Татарстан  Набережные Челны   \n\n  parent_category_name              category_name         param_1     param_2  \\\n0          Личные вещи  Одежда, обувь, аксессуары  Женская одежда       Обувь   \n1         Недвижимость       Гаражи и машиноместа            Сдам       Гараж   \n2          Личные вещи         Красота и здоровье       Косметика         NaN   \n3            Транспорт                 Автомобили      С пробегом  Volkswagen   \n4      Для дома и дачи     Ремонт и строительство  Стройматериалы         NaN   \n\n          param_3                          title  \\\n0              37                   Продам туфли   \n1  Железобетонный                   Гараж, 24 м²   \n2             NaN                        L'oreal   \n3          Touran        Volkswagen Touran, 2009   \n4             NaN  Поддоны деревянные квадратные   \n\n                                         description     price  \\\n0               Продам туфли Centro надевались 1 раз     700.0   \n1                             Новый 4х6, ворота 2,30    6000.0   \n2  Цвет шампанского. Берём для себя либо в подаро...     180.0   \n3  Авто в отличном состоянии, 7 мест, заводское г...  730000.0   \n4               размер 1200х1200, в наличии 100 штук      50.0   \n\n   item_seq_number activation_date user_type  \\\n0               32      2017-03-15   Private   \n1               47      2017-03-26   Private   \n2                4      2017-03-20   Private   \n3                4      2017-03-26   Private   \n4               15      2017-03-28   Private   \n\n                                               image  image_top_1  \\\n0  a634d6091b56ad4b74f138ea8814ed8cf16843277f39ca...        432.0   \n1  062b7bb3ceec6da752353356ba0cd631adf2698317a076...       2217.0   \n2  c654bb743329fc5eca629aa13295afda0acc43cff7c3ca...        774.0   \n3  f2fced3a05f92a959649d501080f52eaff13d70807ecd3...       1106.0   \n4  5e440a64574b8c21c375f67a028b0d0863b8d2a0a3e2fe...       1289.0   \n\n   deal_probability  \n0           0.00000  \n1           0.14274  \n2           0.00000  \n3           0.00000  \n4           0.86521  ",
      "text/html": "<div>\n<style scoped>\n    .dataframe tbody tr th:only-of-type {\n        vertical-align: middle;\n    }\n\n    .dataframe tbody tr th {\n        vertical-align: top;\n    }\n\n    .dataframe thead th {\n        text-align: right;\n    }\n</style>\n<table border=\"1\" class=\"dataframe\">\n  <thead>\n    <tr style=\"text-align: right;\">\n      <th></th>\n      <th>item_id</th>\n      <th>user_id</th>\n      <th>region</th>\n      <th>city</th>\n      <th>parent_category_name</th>\n      <th>category_name</th>\n      <th>param_1</th>\n      <th>param_2</th>\n      <th>param_3</th>\n      <th>title</th>\n      <th>description</th>\n      <th>price</th>\n      <th>item_seq_number</th>\n      <th>activation_date</th>\n      <th>user_type</th>\n      <th>image</th>\n      <th>image_top_1</th>\n      <th>deal_probability</th>\n    </tr>\n  </thead>\n  <tbody>\n    <tr>\n      <th>0</th>\n      <td>f29cf252fe8b</td>\n      <td>36f607251eca</td>\n      <td>Оренбургская область</td>\n      <td>Оренбург</td>\n      <td>Личные вещи</td>\n      <td>Одежда, обувь, аксессуары</td>\n      <td>Женская одежда</td>\n      <td>Обувь</td>\n      <td>37</td>\n      <td>Продам туфли</td>\n      <td>Продам туфли Centro надевались 1 раз</td>\n      <td>700.0</td>\n      <td>32</td>\n      <td>2017-03-15</td>\n      <td>Private</td>\n      <td>a634d6091b56ad4b74f138ea8814ed8cf16843277f39ca...</td>\n      <td>432.0</td>\n      <td>0.00000</td>\n    </tr>\n    <tr>\n      <th>1</th>\n      <td>ed78ef5c7587</td>\n      <td>2308937ea3a8</td>\n      <td>Иркутская область</td>\n      <td>Ангарск</td>\n      <td>Недвижимость</td>\n      <td>Гаражи и машиноместа</td>\n      <td>Сдам</td>\n      <td>Гараж</td>\n      <td>Железобетонный</td>\n      <td>Гараж, 24 м²</td>\n      <td>Новый 4х6, ворота 2,30</td>\n      <td>6000.0</td>\n      <td>47</td>\n      <td>2017-03-26</td>\n      <td>Private</td>\n      <td>062b7bb3ceec6da752353356ba0cd631adf2698317a076...</td>\n      <td>2217.0</td>\n      <td>0.14274</td>\n    </tr>\n    <tr>\n      <th>2</th>\n      <td>c0f25c409790</td>\n      <td>1ae330e29560</td>\n      <td>Свердловская область</td>\n      <td>Ревда</td>\n      <td>Личные вещи</td>\n      <td>Красота и здоровье</td>\n      <td>Косметика</td>\n      <td>NaN</td>\n      <td>NaN</td>\n      <td>L'oreal</td>\n      <td>Цвет шампанского. Берём для себя либо в подаро...</td>\n      <td>180.0</td>\n      <td>4</td>\n      <td>2017-03-20</td>\n      <td>Private</td>\n      <td>c654bb743329fc5eca629aa13295afda0acc43cff7c3ca...</td>\n      <td>774.0</td>\n      <td>0.00000</td>\n    </tr>\n    <tr>\n      <th>3</th>\n      <td>a8715a8d3229</td>\n      <td>81d37b472906</td>\n      <td>Ярославская область</td>\n      <td>Некрасовское</td>\n      <td>Транспорт</td>\n      <td>Автомобили</td>\n      <td>С пробегом</td>\n      <td>Volkswagen</td>\n      <td>Touran</td>\n      <td>Volkswagen Touran, 2009</td>\n      <td>Авто в отличном состоянии, 7 мест, заводское г...</td>\n      <td>730000.0</td>\n      <td>4</td>\n      <td>2017-03-26</td>\n      <td>Private</td>\n      <td>f2fced3a05f92a959649d501080f52eaff13d70807ecd3...</td>\n      <td>1106.0</td>\n      <td>0.00000</td>\n    </tr>\n    <tr>\n      <th>4</th>\n      <td>2b2f882391b7</td>\n      <td>720a6b091901</td>\n      <td>Татарстан</td>\n      <td>Набережные Челны</td>\n      <td>Для дома и дачи</td>\n      <td>Ремонт и строительство</td>\n      <td>Стройматериалы</td>\n      <td>NaN</td>\n      <td>NaN</td>\n      <td>Поддоны деревянные квадратные</td>\n      <td>размер 1200х1200, в наличии 100 штук</td>\n      <td>50.0</td>\n      <td>15</td>\n      <td>2017-03-28</td>\n      <td>Private</td>\n      <td>5e440a64574b8c21c375f67a028b0d0863b8d2a0a3e2fe...</td>\n      <td>1289.0</td>\n      <td>0.86521</td>\n    </tr>\n  </tbody>\n</table>\n</div>"
     },
     "execution_count": 20,
     "metadata": {},
     "output_type": "execute_result"
    }
   ],
   "source": [
    "data.head()"
   ]
  },
  {
   "cell_type": "markdown",
   "source": [
    "Data information"
   ],
   "metadata": {
    "collapsed": false
   }
  },
  {
   "cell_type": "code",
   "execution_count": 21,
   "id": "5de9da22-998a-4322-aaba-9826f472920c",
   "metadata": {},
   "outputs": [
    {
     "name": "stdout",
     "output_type": "stream",
     "text": [
      "<class 'pandas.core.frame.DataFrame'>\n",
      "RangeIndex: 50000 entries, 0 to 49999\n",
      "Data columns (total 18 columns):\n",
      " #   Column                Non-Null Count  Dtype  \n",
      "---  ------                --------------  -----  \n",
      " 0   item_id               50000 non-null  object \n",
      " 1   user_id               50000 non-null  object \n",
      " 2   region                50000 non-null  object \n",
      " 3   city                  50000 non-null  object \n",
      " 4   parent_category_name  50000 non-null  object \n",
      " 5   category_name         50000 non-null  object \n",
      " 6   param_1               47965 non-null  object \n",
      " 7   param_2               28224 non-null  object \n",
      " 8   param_3               21144 non-null  object \n",
      " 9   title                 50000 non-null  object \n",
      " 10  description           46153 non-null  object \n",
      " 11  price                 47167 non-null  float64\n",
      " 12  item_seq_number       50000 non-null  int64  \n",
      " 13  activation_date       50000 non-null  object \n",
      " 14  user_type             50000 non-null  object \n",
      " 15  image                 46332 non-null  object \n",
      " 16  image_top_1           46332 non-null  float64\n",
      " 17  deal_probability      50000 non-null  float64\n",
      "dtypes: float64(3), int64(1), object(14)\n",
      "memory usage: 6.9+ MB\n"
     ]
    }
   ],
   "source": [
    "data.info()"
   ]
  },
  {
   "cell_type": "markdown",
   "source": [
    "There are 50,000 rows and 17 columns in the dataset. However, we will not use image column in this project, as it would require loading all 50k images and working with them, so we will drop this column."
   ],
   "metadata": {
    "collapsed": false
   }
  },
  {
   "cell_type": "code",
   "execution_count": 22,
   "outputs": [],
   "source": [
    "data.drop('image', axis=1, inplace=True)"
   ],
   "metadata": {
    "collapsed": false
   }
  },
  {
   "cell_type": "markdown",
   "source": [
    "We can also see that there are some missing values in the dataset. We will handle them later. Now, let's display information about missing values."
   ],
   "metadata": {
    "collapsed": false
   }
  },
  {
   "cell_type": "code",
   "execution_count": 23,
   "outputs": [
    {
     "name": "stdout",
     "output_type": "stream",
     "text": [
      "Duplicates in the dataset: 0\n"
     ]
    }
   ],
   "source": [
    "print(f'Duplicates in the dataset: {data.duplicated().sum()}')"
   ],
   "metadata": {
    "collapsed": false
   }
  },
  {
   "cell_type": "markdown",
   "source": [
    "There are no duplicates in the dataset."
   ],
   "metadata": {
    "collapsed": false
   }
  },
  {
   "cell_type": "markdown",
   "source": [
    "Finally, we see, that activation_date column type is incorrect."
   ],
   "metadata": {
    "collapsed": false
   }
  },
  {
   "cell_type": "code",
   "execution_count": 24,
   "outputs": [],
   "source": [
    "data['activation_date'] = pd.to_datetime(data['activation_date'])"
   ],
   "metadata": {
    "collapsed": false
   }
  },
  {
   "cell_type": "markdown",
   "source": [],
   "metadata": {
    "collapsed": false
   }
  },
  {
   "cell_type": "markdown",
   "source": [
    "# Missing values"
   ],
   "metadata": {
    "collapsed": false
   }
  },
  {
   "cell_type": "code",
   "execution_count": 15,
   "outputs": [
    {
     "name": "stdout",
     "output_type": "stream",
     "text": [
      "Missing values in the dataset: 63015\n"
     ]
    }
   ],
   "source": [
    "print(f'Missing values in the dataset: {data.isnull().sum().sum()}')"
   ],
   "metadata": {
    "collapsed": false
   }
  },
  {
   "cell_type": "code",
   "execution_count": 16,
   "outputs": [
    {
     "data": {
      "text/plain": "<Figure size 1152x576 with 1 Axes>",
      "image/png": "[encoded data removed]"
     },
     "metadata": {
      "needs_background": "light"
     },
     "output_type": "display_data"
    }
   ],
   "source": [
    "import matplotlib.pyplot as plt\n",
    "import seaborn as sns\n",
    "\n",
    "missing_values = data.isnull().sum()\n",
    "missing_values = missing_values[missing_values > 0]\n",
    "\n",
    "plt.figure(figsize=(16, 8))\n",
    "sns.barplot(x=missing_values.index, y=missing_values.values, palette=\"viridis\")\n",
    "\n",
    "plt.xticks(rotation=45, ha='right')\n",
    "plt.title('Missing Values in Each Column', fontsize=22)\n",
    "plt.xlabel('Columns', fontsize=18)\n",
    "plt.ylabel('Number of Missing Values', fontsize=18)\n",
    "plt.xticks(fontsize=14)\n",
    "plt.yticks(fontsize=14)\n",
    "for i in range(len(missing_values)):\n",
    "    plt.text(i, missing_values.iloc[i] + max(missing_values) * 0.01, missing_values.iloc[i], ha='center', va='bottom', fontsize=14)\n",
    "\n",
    "plt.tight_layout()\n",
    "plt.show()"
   ],
   "metadata": {
    "collapsed": false
   }
  },
  {
   "cell_type": "markdown",
   "source": [
    "Based on the plot above, we can see that there are missing values in the following columns:\n",
    "1. **Optional parameters from Avito's ad model: `param_1`, `param_2`, `param_3`**\n",
    "   - The columns `param_1`, `param_2`, and `param_3` have a large number of missing values, However, since these columns are optional parameters according to the dataset description, the high number of missing values is expected. Moreover, these parameters are categorical, so we can handle missing values by imputing them as a separate category.\n",
    "\n",
    "2. **Missing Values in `description` and `price`**:\n",
    "   - The `description` column has 3,847 missing entries. This is critical because the description is one of the key factors that can influence buyer interest. Missing descriptions could lead to lower prediction accuracy. We will impute these missing values with a placeholder text, such as \"No description available.\"\n",
    "   - The `price` column has 2,833 missing entries. Price is another important factor for demand prediction. We can impute these missing values with the median price within each category to maintain the distribution of prices within similar ads.\n",
    "\n",
    "3. **Missing Values in `image_top_1`**:\n",
    "   - The `image_top_1` column, which represents Avito's classification code for the image, has 3,668 missing entries. Since images are a significant part of the listing, missing this data could affect the prediction accuracy. Missing value may indicate that Avito's classification algorithm failed to classify the image. We will impute these missing values with a value that is not present in the dataset to distinguish them from the actual values."
   ],
   "metadata": {
    "collapsed": false
   }
  },
  {
   "cell_type": "markdown",
   "source": [
    "#### Imputing param_1, param_2, and param_3"
   ],
   "metadata": {
    "collapsed": false
   }
  },
  {
   "cell_type": "code",
   "execution_count": 25,
   "outputs": [],
   "source": [
    "data['param_1'] = data['param_1'].fillna('missing')\n",
    "data['param_2'] = data['param_2'].fillna('missing')\n",
    "data['param_3'] = data['param_3'].fillna('missing')"
   ],
   "metadata": {
    "collapsed": false
   }
  },
  {
   "cell_type": "markdown",
   "source": [
    "#### Imputing description"
   ],
   "metadata": {
    "collapsed": false
   }
  },
  {
   "cell_type": "code",
   "execution_count": 26,
   "outputs": [],
   "source": [
    "data['description'] = data['description'].fillna('No description available')"
   ],
   "metadata": {
    "collapsed": false
   }
  },
  {
   "cell_type": "markdown",
   "source": [
    "#### Imputing price"
   ],
   "metadata": {
    "collapsed": false
   }
  },
  {
   "cell_type": "code",
   "execution_count": 29,
   "outputs": [
    {
     "data": {
      "text/plain": "category_name\nАвтомобили                       240000.0\nАквариум                            350.0\nАудио и видео                      2000.0\nБилеты и путешествия               9750.0\nБытовая техника                    3000.0\nВелосипеды                         5000.0\nВодный транспорт                  44600.0\nГаражи и машиноместа             150000.0\nГотовый бизнес                   225000.0\nГрузовики и спецтехника          310000.0\nДетская одежда и обувь              500.0\nДома, дачи, коттеджи            1400000.0\nДругие животные                    3000.0\nЗемельные участки                550000.0\nИгры, приставки и программы        1790.0\nКвартиры                        1680000.0\nКниги и журналы                     200.0\nКоллекционирование                  800.0\nКоммерческая недвижимость         90000.0\nКомнаты                          390000.0\nКошки                              1000.0\nКрасота и здоровье                  600.0\nМебель и интерьер                  3000.0\nМотоциклы и мототехника           25500.0\nМузыкальные инструменты            5000.0\nНастольные компьютеры              8000.0\nНедвижимость за рубежом         2755000.0\nНоутбуки                          10650.0\nОборудование для бизнеса          14000.0\nОдежда, обувь, аксессуары           900.0\nОргтехника и расходники            1150.0\nОхота и рыбалка                    1500.0\nПланшеты и электронные книги       3500.0\nПосуда и товары для кухни           500.0\nПредложение услуг                   500.0\nПродукты питания                    150.0\nПтицы                               500.0\nРастения                            200.0\nРемонт и строительство             1990.0\nСобаки                             5000.0\nСпорт и отдых                      2000.0\nТелефоны                           4000.0\nТовары для детей и игрушки         1500.0\nТовары для животных                 588.0\nТовары для компьютера              1000.0\nФототехника                        3900.0\nЧасы и украшения                   1700.0\nName: price, dtype: float64"
     },
     "execution_count": 29,
     "metadata": {},
     "output_type": "execute_result"
    }
   ],
   "source": [
    "category_price_median = data.groupby('category_name')['price'].median()\n",
    "category_price_median"
   ],
   "metadata": {
    "collapsed": false
   }
  },
  {
   "cell_type": "code",
   "execution_count": 31,
   "outputs": [],
   "source": [
    "data['price'] = data['price'].fillna(data['category_name'].map(category_price_median))"
   ],
   "metadata": {
    "collapsed": false
   }
  },
  {
   "cell_type": "markdown",
   "source": [
    "#### Imputing image_top_1"
   ],
   "metadata": {
    "collapsed": false
   }
  },
  {
   "cell_type": "code",
   "execution_count": 33,
   "outputs": [
    {
     "data": {
      "text/plain": "3066.0"
     },
     "execution_count": 33,
     "metadata": {},
     "output_type": "execute_result"
    }
   ],
   "source": [
    "max_image_top_1 = data['image_top_1'].max()\n",
    "max_image_top_1"
   ],
   "metadata": {
    "collapsed": false
   }
  },
  {
   "cell_type": "code",
   "execution_count": 34,
   "outputs": [],
   "source": [
    "data['image_top_1'] = data['image_top_1'].fillna(max_image_top_1 + 1)"
   ],
   "metadata": {
    "collapsed": false
   }
  },
  {
   "cell_type": "code",
   "execution_count": 35,
   "outputs": [
    {
     "name": "stdout",
     "output_type": "stream",
     "text": [
      "Missing values in the dataset: 0\n"
     ]
    }
   ],
   "source": [
    "print(f'Missing values in the dataset: {data.isnull().sum().sum()}')"
   ],
   "metadata": {
    "collapsed": false
   }
  },
  {
   "cell_type": "code",
   "execution_count": null,
   "outputs": [],
   "source": [],
   "metadata": {
    "collapsed": false
   }
  }
 ],
 "metadata": {
  "kernelspec": {
   "display_name": "Python 3 (ipykernel)",
   "language": "python",
   "name": "python3"
  },
  "language_info": {
   "codemirror_mode": {
    "name": "ipython",
    "version": 3
   },
   "file_extension": ".py",
   "mimetype": "text/x-python",
   "name": "python",
   "nbconvert_exporter": "python",
   "pygments_lexer": "ipython3",
   "version": "3.12.4"
  }
 },
 "nbformat": 4,
 "nbformat_minor": 5
}
