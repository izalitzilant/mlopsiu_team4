{
  "cells": [
    {
      "cell_type": "code",
      "execution_count": null,
      "metadata": {
        "id": "tLXINSuXpYlT"
      },
      "outputs": [],
      "source": [
        "import torch\n",
        "from torch import nn\n",
        "import torch.nn.functional as F\n",
        "import torch.optim as opt\n",
        "from torch.utils.data import DataLoader, Dataset\n",
        "from tqdm import tqdm\n",
        "# from torch.distributed import"
      ]
    },
    {
      "cell_type": "code",
      "execution_count": null,
      "metadata": {
        "id": "-kSSJ27apYlV",
        "outputId": "74305166-7e24-4c9f-b614-eaf94e643d82"
      },
      "outputs": [
        {
          "name": "stdout",
          "output_type": "stream",
          "text": [
            "Using device: cuda\n"
          ]
        }
      ],
      "source": [
        "device = torch.device('cuda' if torch.cuda.is_available() else 'cpu')\n",
        "print('Using device:', device)"
      ]
    },
    {
      "cell_type": "markdown",
      "source": [
        "# DataLoader"
      ],
      "metadata": {
        "id": "YRiFlIWAplXY"
      }
    },
    {
      "cell_type": "markdown",
      "source": [
        "ToDo: make dataloader"
      ],
      "metadata": {
        "id": "QrjkrGT5pnU5"
      }
    },
    {
      "cell_type": "code",
      "execution_count": null,
      "metadata": {
        "id": "H6ymv8zBpYlW"
      },
      "outputs": [],
      "source": [
        "class MyDataset(Dataset):\n",
        "\n",
        "    def __init__(self, X, n=1000):\n",
        "        self.X = torch.rand((X, n), dtype=torch.float64, device=device)\n",
        "        self.y = torch.rand((X, 1), dtype=torch.float64, device=device)\n",
        "\n",
        "    def __len__(self):\n",
        "        return self.X.shape[0]\n",
        "\n",
        "    def __getitem__(self, index):\n",
        "        return (self.X[index], self.y[index])"
      ]
    },
    {
      "cell_type": "code",
      "execution_count": null,
      "metadata": {
        "id": "zWIF33WxpYlX"
      },
      "outputs": [],
      "source": [
        "train_dataset = MyDataset(50_000)\n",
        "test_dataset = MyDataset(10_000)\n",
        "batch_size = 10_000\n",
        "num_epochs = 10\n",
        "\n",
        "train_loader = DataLoader(train_dataset, batch_size=batch_size, shuffle=True)\n",
        "test_loader = DataLoader(test_dataset, batch_size=batch_size, shuffle=False)"
      ]
    },
    {
      "cell_type": "markdown",
      "source": [
        "# Model"
      ],
      "metadata": {
        "id": "Nvln7nRVprO5"
      }
    },
    {
      "cell_type": "code",
      "execution_count": null,
      "metadata": {
        "id": "WdfG7gc5pYlX"
      },
      "outputs": [],
      "source": [
        "class PreliminaryModel(nn.Module):\n",
        "    def __init__(self, n_feature):\n",
        "        super().__init__()\n",
        "        self.n_feature = n_feature\n",
        "        self.seq_model = nn.Sequential(\n",
        "            nn.Linear(self.n_feature, 2048, dtype=torch.float64),\n",
        "            nn.ReLU(),\n",
        "            nn.Linear(2048, 2048, dtype=torch.float64),\n",
        "            nn.ReLU(),\n",
        "            nn.Linear(2048, 2048, dtype=torch.float64),\n",
        "            nn.ReLU(),\n",
        "            nn.Linear(2048, 1024, dtype=torch.float64),\n",
        "            nn.ReLU(),\n",
        "            nn.Linear(1024, 1024, dtype=torch.float64),\n",
        "            nn.ReLU(),\n",
        "            nn.Linear(1024, 512, dtype=torch.float64),\n",
        "            nn.ReLU(),\n",
        "            nn.Linear(512, 512, dtype=torch.float64),\n",
        "            nn.ReLU(),\n",
        "            nn.Linear(512, 256, dtype=torch.float64),\n",
        "            nn.ReLU(),\n",
        "            nn.Linear(256, 128, dtype=torch.float64),\n",
        "            nn.ReLU(),\n",
        "            nn.Linear(128, 1, dtype=torch.float64),\n",
        "            nn.Sigmoid()\n",
        "        )\n",
        "\n",
        "    def forward(self,x):\n",
        "        y_pred = self.seq_model(x)\n",
        "        return y_pred"
      ]
    },
    {
      "cell_type": "code",
      "execution_count": null,
      "metadata": {
        "id": "xlFe0ekQpYlY",
        "outputId": "abfaac22-74b0-40fd-ccb3-c58de72c863c"
      },
      "outputs": [
        {
          "data": {
            "text/plain": [
              "tensor([[0.4967],\n",
              "        [0.4967],\n",
              "        [0.4967],\n",
              "        [0.4967],\n",
              "        [0.4967]], device='cuda:0', dtype=torch.float64,\n",
              "       grad_fn=<SigmoidBackward0>)"
            ]
          },
          "execution_count": 6,
          "metadata": {},
          "output_type": "execute_result"
        }
      ],
      "source": [
        "model = PreliminaryModel(1000).to(device)\n",
        "model(torch.rand((5,1000), dtype=torch.double, device=device))"
      ]
    },
    {
      "cell_type": "markdown",
      "source": [
        "# Train"
      ],
      "metadata": {
        "id": "x6U59MripxLH"
      }
    },
    {
      "cell_type": "code",
      "execution_count": null,
      "metadata": {
        "id": "aYjmVEJgpYlY"
      },
      "outputs": [],
      "source": [
        "def RMSELoss(y_pred, y):\n",
        "    return torch.sqrt(torch.mean((y_pred-y)**2))"
      ]
    },
    {
      "cell_type": "code",
      "execution_count": null,
      "metadata": {
        "id": "MYN4v9PQpYlY"
      },
      "outputs": [],
      "source": [
        "def train(model, device, train_loader, optimizer, criterion, epoch):\n",
        "    model.train()\n",
        "\n",
        "    running_loss = 0.0\n",
        "\n",
        "    for inputs, labels in tqdm(train_loader):\n",
        "\n",
        "        inputs = inputs.to(device)\n",
        "        labels = labels.to(device)\n",
        "\n",
        "        optimizer.zero_grad()\n",
        "\n",
        "        outputs = model(inputs)\n",
        "        loss = criterion(outputs, labels)\n",
        "\n",
        "        loss.backward()\n",
        "        optimizer.step()"
      ]
    },
    {
      "cell_type": "code",
      "source": [
        "optimizer = opt.RMSprop(model.parameters(), lr=7e-4, alpha=0.99, eps=1e-5)\n",
        "criterion = RMSELoss\n",
        "\n",
        "for epoch in range(1, num_epochs + 1):\n",
        "    train(model, device, train_loader, optimizer, criterion, epoch) --"
      ],
      "metadata": {
        "id": "sedSE77_p3za"
      },
      "execution_count": null,
      "outputs": []
    },
    {
      "cell_type": "markdown",
      "source": [
        "# Test"
      ],
      "metadata": {
        "id": "iejzCT3ip5Ph"
      }
    },
    {
      "cell_type": "code",
      "execution_count": null,
      "metadata": {
        "id": "wKY0q-DOpYlZ"
      },
      "outputs": [],
      "source": [
        "def test(model, device, test_loader, criterion):\n",
        "\n",
        "    model.eval()\n",
        "\n",
        "    test_loss = 0.0\n",
        "\n",
        "    with torch.no_grad():\n",
        "        for inputs, labels in test_loader:\n",
        "\n",
        "            inputs = inputs.to(device)\n",
        "            labels = labels.to(device)\n",
        "\n",
        "            outputs = model(inputs)\n",
        "            loss = criterion(outputs, labels)\n",
        "\n",
        "            test_loss += loss.item()\n",
        "    print(f'Test Loss: {test_loss / len(test_loader):.4f}')"
      ]
    },
    {
      "cell_type": "code",
      "execution_count": null,
      "metadata": {
        "id": "iL5sKfKFpYla",
        "outputId": "a9248000-1466-42bc-8977-41a3040f7018"
      },
      "outputs": [
        {
          "name": "stderr",
          "output_type": "stream",
          "text": [
            "100%|██████████| 5/5 [00:23<00:00,  4.65s/it]\n",
            "100%|██████████| 5/5 [00:29<00:00,  5.87s/it]\n",
            "100%|██████████| 5/5 [00:29<00:00,  5.99s/it]\n",
            "100%|██████████| 5/5 [00:30<00:00,  6.00s/it]\n",
            "100%|██████████| 5/5 [00:30<00:00,  6.00s/it]\n",
            "100%|██████████| 5/5 [00:29<00:00,  6.00s/it]\n",
            "100%|██████████| 5/5 [00:29<00:00,  5.99s/it]\n",
            "100%|██████████| 5/5 [00:29<00:00,  5.98s/it]\n",
            "100%|██████████| 5/5 [00:30<00:00,  6.00s/it]\n",
            "100%|██████████| 5/5 [00:30<00:00,  6.01s/it]\n"
          ]
        }
      ],
      "source": [
        "for epoch in range(1, num_epochs + 1):\n",
        "    test(model, device, test_loader, criterion)"
      ]
    },
    {
      "cell_type": "code",
      "execution_count": null,
      "metadata": {
        "id": "iDQcn4ZEpYla"
      },
      "outputs": [],
      "source": []
    }
  ],
  "metadata": {
    "kernelspec": {
      "display_name": ".venv",
      "language": "python",
      "name": "python3"
    },
    "language_info": {
      "codemirror_mode": {
        "name": "ipython",
        "version": 3
      },
      "file_extension": ".py",
      "mimetype": "text/x-python",
      "name": "python",
      "nbconvert_exporter": "python",
      "pygments_lexer": "ipython3",
      "version": "3.8.10"
    },
    "colab": {
      "provenance": []
    }
  },
  "nbformat": 4,
  "nbformat_minor": 0
}